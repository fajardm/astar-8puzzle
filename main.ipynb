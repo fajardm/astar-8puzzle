{
 "cells": [
  {
   "cell_type": "code",
   "execution_count": 1,
   "metadata": {
    "collapsed": false
   },
   "outputs": [
    {
     "name": "stdout",
     "output_type": "stream",
     "text": [
      "current\n0 1 3 \n4 2 5 \n7 8 6 \nF = 0 + 0 = 0\n\ncurrent\n1 0 3 \n4 2 5 \n7 8 6 \nF = 1 + 3 = 4\n\ncurrent\n1 2 3 \n4 0 5 \n7 8 6 \nF = 2 + 2 = 4\n\ncurrent\n1 2 3 \n4 5 0 \n7 8 6 \nF = 3 + 1 = 4\n\ngoal\n1 2 3 \n4 5 6 \n7 8 0 \nF = 4 + 0 = 4\n\n"
     ]
    }
   ],
   "source": [
    "from formula import astar\n",
    "from puzzle import Puzzle\n",
    "\n",
    "\n",
    "def main():\n",
    "    goal = [[1, 2, 3], [4, 5, 6], [7, 8, None]]\n",
    "    board = [[3, 4, 8], [5, None, 6], [7, 1, 2]]\n",
    "    # board = [[None, 1, 3], [4, 2, 5], [7, 8, 6]] # simple board\n",
    "    puzzle = Puzzle(board, None)\n",
    "    depth = 100\n",
    "    astar(puzzle, goal, depth)\n",
    "    \n",
    "\n",
    "main()"
   ]
  }
 ],
 "metadata": {
  "kernelspec": {
   "display_name": "Python 2",
   "language": "python",
   "name": "python2"
  },
  "language_info": {
   "codemirror_mode": {
    "name": "ipython",
    "version": 2
   },
   "file_extension": ".py",
   "mimetype": "text/x-python",
   "name": "python",
   "nbconvert_exporter": "python",
   "pygments_lexer": "ipython2",
   "version": "2.7.6"
  }
 },
 "nbformat": 4,
 "nbformat_minor": 0
}
