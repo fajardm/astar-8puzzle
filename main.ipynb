{
 "cells": [
  {
   "cell_type": "code",
   "execution_count": 1,
   "metadata": {
    "collapsed": false
   },
   "outputs": [
    {
     "name": "stdout",
     "output_type": "stream",
     "text": [
      "current\n3 4 8 \n5   6 \n7 1 2 \nF = 0 + 0 = 0\n\ncurrent\n3   8 \n5 4 6 \n7 1 2 \nF = 1 + 13 = 14\n\ncurrent\n3 4 8 \n5 1 6 \n7   2 \nF = 1 + 13 = 14\n\ncurrent\n3 4 8 \n  5 6 \n7 1 2 \nF = 1 + 13 = 14\n\ncurrent\n  3 8 \n5 4 6 \n7 1 2 \nF = 2 + 12 = 14\n\ncurrent\n3 8   \n5 4 6 \n7 1 2 \nF = 2 + 12 = 14\n\ncurrent\n3 4 8 \n5 1 6 \n7 2   \nF = 2 + 12 = 14\n\ncurrent\n3 4 8 \n5 6   \n7 1 2 \nF = 1 + 15 = 16\n\ncurrent\n3 4 8 \n5 1 6 \n  7 2 \nF = 2 + 14 = 16\n\ncurrent\n  4 8 \n3 5 6 \n7 1 2 \nF = 2 + 14 = 16\n\n"
     ]
    }
   ],
   "source": [
    "from formula import astar\n",
    "from puzzle import generate, Puzzle\n",
    "\n",
    "\n",
    "def main():\n",
    "    goal = [[1, 2, 3], [4, 5, 6], [7, 8, None]]\n",
    "    board = generate()\n",
    "    puzzle = Puzzle(board, None)\n",
    "    depth = 100\n",
    "    astar(puzzle, goal, depth)\n",
    "    \n",
    "\n",
    "main()"
   ]
  }
 ],
 "metadata": {
  "kernelspec": {
   "display_name": "Python 2",
   "language": "python",
   "name": "python2"
  },
  "language_info": {
   "codemirror_mode": {
    "name": "ipython",
    "version": 2
   },
   "file_extension": ".py",
   "mimetype": "text/x-python",
   "name": "python",
   "nbconvert_exporter": "python",
   "pygments_lexer": "ipython2",
   "version": "2.7.6"
  }
 },
 "nbformat": 4,
 "nbformat_minor": 0
}
